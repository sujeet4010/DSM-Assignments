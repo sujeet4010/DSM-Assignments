{
 "cells": [
  {
   "cell_type": "markdown",
   "id": "5db0417e-9c8d-42d2-b169-bfc39dc9a6c8",
   "metadata": {},
   "source": [
    "Que1:Write a program to accept percentage from the user and display the grade accordin to the following criteria.\n",
    "\n",
    "    Marks                  Grade\n",
    "\n",
    "    .>90            :       A\n",
    "\n",
    "    .>80 and <=90   :       B\n",
    "\n",
    "    .>=60 and <=80  :       c\n",
    "\n",
    "    .below 60       :       D"
   ]
  },
  {
   "cell_type": "code",
   "execution_count": 2,
   "id": "82e38dad-2a61-4ff0-8d33-801c9d6ebea3",
   "metadata": {},
   "outputs": [
    {
     "name": "stdin",
     "output_type": "stream",
     "text": [
      "Enter your marks in first subject:  89\n",
      "Enter your marks in second subject:  90\n",
      "Enter your marks in third subject:  92\n",
      "Enter your marks in fourth subject:  87\n",
      "Enter your marks in fifth subject:  89\n"
     ]
    },
    {
     "name": "stdout",
     "output_type": "stream",
     "text": [
      "89.4\n",
      "Grade:B\n"
     ]
    }
   ],
   "source": [
    "sub1=int(input(\"Enter your marks in first subject: \"))\n",
    "sub2=int(input(\"Enter your marks in second subject: \"))\n",
    "sub3=int(input(\"Enter your marks in third subject: \"))\n",
    "sub4=int(input(\"Enter your marks in fourth subject: \"))\n",
    "sub5=int(input(\"Enter your marks in fifth subject: \"))\n",
    "avg=(sub1+sub2+sub3+sub4+sub5)/5\n",
    "print(avg)\n",
    "if(avg>90):\n",
    "    print(\"Grade:A\")\n",
    "elif(80<avg<=90):\n",
    "    print(\"Grade:B\")\n",
    "elif(60<=avg<=80):\n",
    "    print(\"Garde:C\")\n",
    "else:\n",
    "    print(\"Grade:D\")"
   ]
  },
  {
   "cell_type": "markdown",
   "id": "1d9a9807-d7c4-4f7f-8712-8d1e7bd9032b",
   "metadata": {},
   "source": [
    "Que 2:Write a program to accept the cost of the bike and display the road tax to be paid according  to following critiria\n",
    "\n",
    "    Tax            Cost price (in rupees)\n",
    "\n",
    "    15%     :       >100000\n",
    "\n",
    "    10%     :       >50000 and <=100000\n",
    "\n",
    "    5%      :       >=50000"
   ]
  },
  {
   "cell_type": "code",
   "execution_count": 4,
   "id": "7f331869-00c1-46ee-9c6d-73212e21a2eb",
   "metadata": {},
   "outputs": [
    {
     "name": "stdin",
     "output_type": "stream",
     "text": [
      "Enter your bike cost:  100000\n"
     ]
    },
    {
     "name": "stdout",
     "output_type": "stream",
     "text": [
      "Your tax will be 10%(in rupees):  10000.0\n"
     ]
    }
   ],
   "source": [
    "Bikecost=int(input(\"Enter your bike cost: \"))\n",
    "if(Bikecost>100000):\n",
    "    print(\"Your tax will be 15%(in rupees): \",(15*Bikecost)/100)\n",
    "elif(50000<Bikecost<=100000):\n",
    "    print(\"Your tax will be 10%(in rupees): \",(10*Bikecost)/100)\n",
    "else:\n",
    "    print(\"YOur tax will be 5%(in rupees): \",(5*Bikecost)/100)"
   ]
  },
  {
   "cell_type": "markdown",
   "id": "954f4ef9-ba41-4d35-9ab9-8aeb47e7bea4",
   "metadata": {},
   "source": [
    "Que 3: Accept any city from the user and display monument of that city\n",
    "\n",
    "    City            Monument\n",
    "\n",
    "    Delhi     :       Red fort\n",
    "\n",
    "    Agra      :       Taj Mahal\n",
    "\n",
    "    Jaipur    :       Jal Mahal"
   ]
  },
  {
   "cell_type": "code",
   "execution_count": 6,
   "id": "995ccc1a-cd61-432c-97d3-f6db83332f63",
   "metadata": {},
   "outputs": [
    {
     "name": "stdin",
     "output_type": "stream",
     "text": [
      "Enter the city:  Agra\n"
     ]
    },
    {
     "name": "stdout",
     "output_type": "stream",
     "text": [
      "The monument is Taj Mahal\n"
     ]
    }
   ],
   "source": [
    "city=input(\"Enter the city: \")\n",
    "match city:\n",
    "    case \"Delhi\":\n",
    "        print(\"The monument is Red Fort\")\n",
    "    case \"Agra\":\n",
    "        print(\"The monument is Taj Mahal\")\n",
    "    case \"Jaipur\":\n",
    "        print(\"The monument is Jal Mahal\")\n",
    "    case _:\n",
    "        print(\"Enter name of another city.\")"
   ]
  },
  {
   "cell_type": "markdown",
   "id": "e48e3314-71df-42c6-86ac-fa276e5da1ed",
   "metadata": {},
   "source": [
    "Que 4: Check how many times a given number can be divisible by 3 before it is less than or equal to 10"
   ]
  },
  {
   "cell_type": "code",
   "execution_count": 7,
   "id": "aa1a5459-bd87-48dc-b42e-7a348b29c3cc",
   "metadata": {},
   "outputs": [
    {
     "name": "stdin",
     "output_type": "stream",
     "text": [
      "Enter a number:  7\n"
     ]
    },
    {
     "name": "stdout",
     "output_type": "stream",
     "text": [
      "The number is divisible by 3:  1 times\n"
     ]
    }
   ],
   "source": [
    "number=int(input(\"Enter a number: \"))\n",
    "count=0\n",
    "while(number<=10):\n",
    "    if(number%3==0):\n",
    "        count+=1\n",
    "    number+=1\n",
    "print(\"The number is divisible by 3: \",count ,\"times\")"
   ]
  },
  {
   "cell_type": "markdown",
   "id": "5c4ca538-012b-44f7-9302-2d29cc53c046",
   "metadata": {},
   "source": [
    "Que 5: Why and when to use while loop give a detailed description with example\n",
    "\n",
    "Ans: While loop statements in Python are used to repeatedly execute a certain statement as long as the condition provided in the while loop statement stays true. While loops let the program control to iterate over a block of code.\n",
    "\n",
    "A \"While\" Loop is used to repeat a specific block of code an unknown number of times, until a condition is met."
   ]
  },
  {
   "cell_type": "code",
   "execution_count": 8,
   "id": "dc8d0e7b-78cd-40d9-9551-c748c740f160",
   "metadata": {},
   "outputs": [
    {
     "name": "stdout",
     "output_type": "stream",
     "text": [
      "loop entered 1 times\n",
      "loop entered 2 times\n",
      "loop entered 3 times\n",
      "loop entered 4 times\n",
      "loop entered 5 times\n",
      "loop entered 6 times\n",
      "loop entered 7 times\n",
      "loop entered 8 times\n",
      "loop entered 9 times\n",
      "loop ends here\n"
     ]
    }
   ],
   "source": [
    "a = 1\n",
    "while( a<10):\n",
    "    print(\"loop entered\", a, \"times\")\n",
    "    a = a+1\n",
    "print(\"loop ends here\")"
   ]
  },
  {
   "cell_type": "markdown",
   "id": "0e88f8d9-be44-45c8-bcdb-e1c2aa9c8dce",
   "metadata": {},
   "source": [
    "Que 6: Use nested while loop to print 3 different pattern."
   ]
  },
  {
   "cell_type": "code",
   "execution_count": 9,
   "id": "4a9c57bb-d931-4d4a-bcff-352e1c52a29b",
   "metadata": {},
   "outputs": [
    {
     "name": "stdout",
     "output_type": "stream",
     "text": [
      "1  \n",
      "1 2  \n",
      "1 2 3  \n",
      "1 2 3 4  \n",
      "1 2 3 4 5  \n"
     ]
    }
   ],
   "source": [
    "i=1\n",
    "while(i<=5):\n",
    "    j=1\n",
    "    while(j<=i):\n",
    "        print(j,end=\" \")\n",
    "        j+=1\n",
    "    print(\" \")\n",
    "    i+=1"
   ]
  },
  {
   "cell_type": "code",
   "execution_count": 11,
   "id": "08532fee-02f3-42c0-a9d1-3a2097757262",
   "metadata": {},
   "outputs": [
    {
     "name": "stdout",
     "output_type": "stream",
     "text": [
      "* * * * *  \n",
      "* * * *  \n",
      "* * *  \n",
      "* *  \n",
      "*  \n"
     ]
    }
   ],
   "source": [
    "length=5\n",
    "while(length!=0):\n",
    "    j=1\n",
    "    while(j<=length):\n",
    "        print(\"*\",end=\" \")\n",
    "        j+=1\n",
    "    print(\" \")\n",
    "    length-=1"
   ]
  },
  {
   "cell_type": "code",
   "execution_count": 12,
   "id": "ed7364ce-8f08-4524-8aa0-5ea3dcb40eb3",
   "metadata": {},
   "outputs": [
    {
     "name": "stdout",
     "output_type": "stream",
     "text": [
      "1 \n",
      "3 3 \n",
      "5 5 5 \n",
      "7 7 7 7 \n",
      "9 9 9 9 9 \n"
     ]
    }
   ],
   "source": [
    "rows = 5\n",
    "i = 1\n",
    "while i <= rows:\n",
    "    j = 1\n",
    "    while j <= i:\n",
    "        print((i * 2 - 1), end=\" \")\n",
    "        j = j + 1\n",
    "    i = i + 1\n",
    "    print('')"
   ]
  },
  {
   "cell_type": "markdown",
   "id": "ec0280af-421e-44af-a2be-3a47d3e5ce40",
   "metadata": {},
   "source": [
    "Que 7 & 8: Reverse a while to print the numbers from 10 to 1"
   ]
  },
  {
   "cell_type": "code",
   "execution_count": 13,
   "id": "d548ec22-4542-47f8-90db-8f1bcb21282e",
   "metadata": {},
   "outputs": [
    {
     "name": "stdout",
     "output_type": "stream",
     "text": [
      "Reverse Numbers\n",
      "10\n",
      "9\n",
      "8\n",
      "7\n",
      "6\n",
      "5\n",
      "4\n",
      "3\n",
      "2\n",
      "1\n"
     ]
    }
   ],
   "source": [
    "i=10\n",
    "print(\"Reverse Numbers\")\n",
    "while(i>0):\n",
    "    print(i)\n",
    "    i-=1  "
   ]
  }
 ],
 "metadata": {
  "kernelspec": {
   "display_name": "Python 3 (ipykernel)",
   "language": "python",
   "name": "python3"
  },
  "language_info": {
   "codemirror_mode": {
    "name": "ipython",
    "version": 3
   },
   "file_extension": ".py",
   "mimetype": "text/x-python",
   "name": "python",
   "nbconvert_exporter": "python",
   "pygments_lexer": "ipython3",
   "version": "3.10.8"
  }
 },
 "nbformat": 4,
 "nbformat_minor": 5
}
