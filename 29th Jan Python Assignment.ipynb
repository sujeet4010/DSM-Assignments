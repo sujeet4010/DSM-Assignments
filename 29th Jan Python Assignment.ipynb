{
 "cells": [
  {
   "cell_type": "markdown",
   "id": "cee0d9cc-bd11-4a8f-b674-b28d8868256d",
   "metadata": {},
   "source": [
    "Que1:Who developed the python programming language?\n",
    "\n",
    "Ans:Python is created by Guido van Rossum and came into existence in 1991."
   ]
  },
  {
   "cell_type": "markdown",
   "id": "1b1b65b3-fcc1-457c-af29-94e0bc3875a1",
   "metadata": {},
   "source": [
    "Que 2:What type of programming does python support?\n",
    "\n",
    "Ans:\n",
    "\n",
    "1. Procedural Programming: Python supports procedural programming, which involves organizing code into reusable procedures or functions that can be called when needed.\n",
    "\n",
    "2. Object-Oriented Programming (OOP): Python supports OOP, which allows users to define classes and objects that encapsulate data and behavior.\n",
    "\n",
    "3. Functional Programming: Python supports functional programming, which involves using pure functions that don't have side effects and avoid changing state."
   ]
  },
  {
   "cell_type": "markdown",
   "id": "8e14394f-a4f1-4d98-99a7-0bcaa2a29b9f",
   "metadata": {},
   "source": [
    "Que 3:Is python case sensitive when dealing with identifiers?\n",
    "\n",
    "Ans:Case is always significant while dealing with identifiers in python."
   ]
  },
  {
   "cell_type": "markdown",
   "id": "612989e1-5d1c-4b32-afc6-94a2e9629512",
   "metadata": {},
   "source": [
    "Que 4:What is correct extension of python file?\n",
    "\n",
    "Ans: Correct extension is \".py\"."
   ]
  },
  {
   "cell_type": "markdown",
   "id": "58f86f1b-2d9c-460a-9395-7dfb9f6ace37",
   "metadata": {},
   "source": [
    "Que 5: Is python code compiled or interpreted?\n",
    "\n",
    "Ans:Python is an interpreted language, which means the source code of a Python program is converted into bytecode that is then executed by the Python virtual machine."
   ]
  },
  {
   "cell_type": "markdown",
   "id": "8780df68-cc59-4097-8f9b-0ac34725acb1",
   "metadata": {},
   "source": [
    "Que 6: Name a few block of code used to define in python language?\n",
    " \n",
    "Ans: A Python program is constructed from code blocks.The following are blocks: a module, a function body, and a class definition."
   ]
  },
  {
   "cell_type": "markdown",
   "id": "7a48d563-0f39-4c0b-8bce-a0082ec39642",
   "metadata": {},
   "source": [
    "Que 7: State a character used to give single-line comments in python?\n",
    "\n",
    "Ans: Single-line comments in Python are identified with a hash symbol, #, and extend to the end of the line."
   ]
  },
  {
   "cell_type": "markdown",
   "id": "2cbef17e-29f7-4b0e-9080-41f278abef80",
   "metadata": {},
   "source": [
    "Que 8: Mention functions which can help us to find the version of the python that currently we are working on?\n",
    "\n",
    "Ans: The function sys. version can help us to find the version of python that we are currently working on. It also contains information on the build number and compiler used."
   ]
  },
  {
   "cell_type": "markdown",
   "id": "f2486896-c381-49dc-ac1a-192c9b854974",
   "metadata": {},
   "source": [
    "Que 9:Python supports the creation of anonymous functions at runtime, using a contruct called?\n",
    "\n",
    "Ans: Python supports the creation of anonymous functions (i.e. functions that are not bound to a name) at runtime, using a construct called lambda."
   ]
  },
  {
   "cell_type": "markdown",
   "id": "e9d2f53f-158f-47c3-98fd-54ed773d6163",
   "metadata": {},
   "source": [
    "Que 10: What does pip stand for python?\n",
    "\n",
    "Ans: pip (an acronym of “pip Install Packages”) is today the standard tool for installing Python packages and their dependencies in a secure manner."
   ]
  },
  {
   "cell_type": "markdown",
   "id": "4de7368e-c8bb-464a-ac63-5436d960dbaf",
   "metadata": {},
   "source": [
    "Que 11: Mention few build-in function in python?\n",
    "\n",
    "Ans: \n",
    "    Function\t     Description\n",
    "    \n",
    "  compile() : Returns the specified source as an object, ready to be executed\n",
    "  \n",
    "  complex() : Returns a complex number\n",
    "  \n",
    "  delattr() : Deletes the specified attribute (property or method) from the specified object\n",
    "  \n",
    "  dict() :  Returns a dictionary (Array) \n",
    "  \n",
    "  etc."
   ]
  },
  {
   "cell_type": "markdown",
   "id": "eaf9f160-885c-4fa3-aa60-52a8295f98b8",
   "metadata": {},
   "source": [
    "Que 12: What is the maximum possible length of an identifier in python?\n",
    "\n",
    "Ans: An identifier can have a maximum length of 79 characters in Python."
   ]
  },
  {
   "cell_type": "markdown",
   "id": "81e9aa27-e314-4bdd-9137-301d0e6cf373",
   "metadata": {},
   "source": [
    "Que 13: What are the benefits of using python?\n",
    "\n",
    "Ans :Advantages: \n",
    "    \n",
    "1).Presence of third-party modules \n",
    "\n",
    "2).Extensive support libraries(NumPy for numerical calculations, Pandas for data analytics, etc.) \n",
    "\n",
    "3).Open source and large active community base \n",
    "\n",
    "4).Versatile, Easy to read, learn and write\n",
    "\n",
    "5).User-friendly data structures \n",
    "\n",
    "6).High-level language \n",
    "\n",
    "7).Dynamically typed language(No need to mention data type based on the value assigned, it takes data type) \n",
    "\n",
    "8).Object-Oriented and Procedural  Programming language\n",
    "\n",
    "9).Portable and Interactive\n",
    "\n",
    "10).Ideal for prototypes – provide more functionality with less coding\n",
    "\n",
    "11).Highly Efficient(Python’s clean object-oriented design provides enhanced process control, and the language is equipped with excellent text processing and integration capabilities, as well as its own unit testing framework, which makes it more efficient.)\n",
    "\n",
    "12).Internet of Things(IoT) Opportunities\n",
    "\n",
    "13).Interpreted Language\n",
    "\n",
    "14).Portable across Operating systems "
   ]
  },
  {
   "cell_type": "markdown",
   "id": "2fbc9c28-8b3a-459f-bb71-60abf0a8b500",
   "metadata": {},
   "source": [
    "Que 14: How is memory managed in python?\n",
    "\n",
    "Ans: Memory management in Python involves the management of a private heap. A private heap is a portion of memory that is exclusive to the Python process. All Python objects and data structures are stored in the private heap. The operating system cannot allocate this piece of memory to another process."
   ]
  },
  {
   "cell_type": "markdown",
   "id": "436c5b93-4eb4-4c5d-968e-7df3bed84577",
   "metadata": {},
   "source": [
    "Que 15: How to install python in windows and set variable paths?\n",
    "\n",
    "Ans: \n",
    "\n",
    "*Steps to install python in windows\n",
    "\n",
    "1).Visit the link https://www.python.org to download the latest release of Python.\n",
    "\n",
    "2).Select the Python's version to download.\n",
    "\n",
    "3). Click on the Install Now\n",
    "\n",
    "4).Click on the Add Path check box, it will set the Python path automatically.\n",
    "\n",
    "5).To verify whether the python is installed or not in our system, we have to do the following.\n",
    "\n",
    "    Go to \"Start\" button, and search \" cmd \".\n",
    "\n",
    "    Then type, \" python - - version \".\n",
    "\n",
    "    if python is successfully installed, then we can see the version of the python installed.\n",
    "\n",
    "    If not installed, then it will print the error as \" 'python' is not recognized as an internal or external command,\n",
    "    operable program or batch file. \".\n",
    "\n",
    "\n",
    "\n",
    "\n",
    "*Steps to set valriable paths of python in windows\n",
    "\n",
    "1). Right click on My Computer and click on properties.\n",
    "\n",
    "2). Click on Advanced System settings\n",
    "\n",
    "3).Click on Environment Variable tab.\n",
    "\n",
    "4).Click on new tab of user variables.\n",
    "\n",
    "5).Write path in variable name\n",
    "\n",
    "6).Copy the path of Python folder\n",
    "\n",
    "7).Paste path of Python in variable value.\n",
    "\n",
    "8).Click on Ok button.\n",
    "\n",
    "9).Again click on Ok button"
   ]
  },
  {
   "cell_type": "markdown",
   "id": "b7773a7b-9ac4-4053-8e35-a4563781926c",
   "metadata": {},
   "source": [
    "Que 16: is indentation required in python?\n",
    "\n",
    "Ans: Indentation is important to Python, because it's how you determine scope. Scope is how Python knows what code belongs to what part of the program."
   ]
  }
 ],
 "metadata": {
  "kernelspec": {
   "display_name": "Python 3 (ipykernel)",
   "language": "python",
   "name": "python3"
  },
  "language_info": {
   "codemirror_mode": {
    "name": "ipython",
    "version": 3
   },
   "file_extension": ".py",
   "mimetype": "text/x-python",
   "name": "python",
   "nbconvert_exporter": "python",
   "pygments_lexer": "ipython3",
   "version": "3.10.8"
  }
 },
 "nbformat": 4,
 "nbformat_minor": 5
}
